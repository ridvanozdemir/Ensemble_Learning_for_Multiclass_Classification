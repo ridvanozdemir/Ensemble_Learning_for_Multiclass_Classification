{
  "nbformat": 4,
  "nbformat_minor": 0,
  "metadata": {
    "colab": {
      "name": "ML_GridSearch.ipynb",
      "provenance": [],
      "collapsed_sections": []
    },
    "kernelspec": {
      "name": "python3",
      "display_name": "Python 3"
    }
  },
  "cells": [
    {
      "cell_type": "code",
      "metadata": {
        "id": "zOh40RwzWrjz"
      },
      "source": [
        "import pandas as pd\n",
        "import numpy as np\n",
        "import statsmodels.api as sm\n",
        "import seaborn as sns\n",
        "import matplotlib.pyplot as plt\n",
        "from sklearn.preprocessing import scale, StandardScaler\n",
        "from sklearn.model_selection import train_test_split, GridSearchCV, cross_val_score\n",
        "from sklearn.metrics import confusion_matrix, accuracy_score, mean_squared_error, r2_score, roc_auc_score, roc_curve, classification_report, log_loss\n",
        "from sklearn.linear_model import LogisticRegression\n",
        "from sklearn.neighbors import KNeighborsClassifier\n",
        "from sklearn.svm import SVC\n",
        "from sklearn.neural_network import MLPClassifier\n",
        "from sklearn.tree import DecisionTreeClassifier\n",
        "from sklearn.ensemble import RandomForestClassifier\n",
        "from sklearn.ensemble import GradientBoostingClassifier\n",
        "from sklearn.ensemble import BaggingClassifier\n",
        "from sklearn.ensemble import AdaBoostClassifier\n",
        "from sklearn.linear_model import LassoCV\n",
        "from lightgbm import LGBMClassifier\n",
        "from catboost import CatBoostClassifier\n",
        "from xgboost import XGBClassifier\n",
        "from keras.models import Sequential\n",
        "from keras.layers import Dense\n",
        "from keras.wrappers.scikit_learn import KerasClassifier\n",
        "from vecstack import stacking"
      ],
      "execution_count": null,
      "outputs": []
    },
    {
      "cell_type": "code",
      "metadata": {
        "id": "z7ppIW7-YYH-"
      },
      "source": [
        "!pip install lightgbm"
      ],
      "execution_count": null,
      "outputs": []
    },
    {
      "cell_type": "code",
      "metadata": {
        "id": "PGQ_WOwXz0mG"
      },
      "source": [
        "!pip install catboost"
      ],
      "execution_count": null,
      "outputs": []
    },
    {
      "cell_type": "code",
      "metadata": {
        "id": "DgRTBpTWW5xB"
      },
      "source": [
        "#reading training dataset\n",
        "df = pd.read_csv(\"train.csv\")\n",
        "\n",
        "#statistic information of dataset\n",
        "df.head()\n",
        "df.describe().T\n",
        "\n",
        "#checking missing data\n",
        "df.isnull().sum()\n",
        "\n",
        "#spliting dependent and independent variables\n",
        "y = df[\"target\"]\n",
        "X = df.drop([\"target\"], axis= 1)\n",
        "\n",
        "#spliting test and train datasets\n",
        "X_train, X_test, y_train, y_test = train_test_split(X, y, test_size=0.10, random_state=42)\n",
        "\n",
        "#scaling the dataset\n",
        "scaler = StandardScaler()\n",
        "scaler.fit(X_train)\n",
        "X_train = scaler.transform(X_train)\n",
        "X_test = scaler.transform(X_test)"
      ],
      "execution_count": null,
      "outputs": []
    },
    {
      "cell_type": "code",
      "metadata": {
        "id": "eEv77udiT6Lk"
      },
      "source": [
        "rf=RandomForestClassifier()"
      ],
      "execution_count": null,
      "outputs": []
    },
    {
      "cell_type": "code",
      "metadata": {
        "id": "p5AG6yLWT_BM"
      },
      "source": [
        "#write possible best parameters to search\n",
        "rf_params = {\"n_estimators\":[100,500,1000],\n",
        "             \"max_features\":[30,50,103],\n",
        "             \"min_samples_split\":[5,18,40]}"
      ],
      "execution_count": null,
      "outputs": []
    },
    {
      "cell_type": "code",
      "metadata": {
        "id": "87Ifb4k_VYkO"
      },
      "source": [
        "rf_cv_model = GridSearchCV(rf, rf_params, cv=5, n_jobs=-1, verbose=True).fit(X_train, y_train)"
      ],
      "execution_count": null,
      "outputs": []
    },
    {
      "cell_type": "code",
      "metadata": {
        "id": "rLYCAPPeeidl"
      },
      "source": [
        "rf_cv_model.best_params_"
      ],
      "execution_count": null,
      "outputs": []
    },
    {
      "cell_type": "code",
      "metadata": {
        "id": "AnIHw9g0xCTV"
      },
      "source": [
        "#use best parameters to boost performance\r\n",
        "rf_tuned = RandomForestClassifier(max_features= 20, min_samples_split= 3, n_estimators= 200, n_jobs=-1, verbose=True).fit(X_train,y_train)"
      ],
      "execution_count": null,
      "outputs": []
    },
    {
      "cell_type": "code",
      "metadata": {
        "id": "H7fDaedPdk37"
      },
      "source": [
        "y_pred = rf_tuned.predict_proba(X_test)\r\n",
        "\r\n",
        "#measuring the error\r\n",
        "log_loss(y_test, y_pred)\r\n",
        "print(log_loss(y_test, y_pred))"
      ],
      "execution_count": null,
      "outputs": []
    },
    {
      "cell_type": "code",
      "metadata": {
        "id": "5jCWb7Fzotyh"
      },
      "source": [
        "xgb = XGBClassifier()\n",
        "xgb_params = {\"n_estimators\": [100, 500],\n",
        "              \"subsample\": [0.6, 0.8],\n",
        "              \"max_depth\": [30,50],\n",
        "              \"learning_rate\": [0.01, 0.001]} \n",
        "\n",
        "xgb_cv_model = GridSearchCV(xgb, xgb_params, n_jobs=-1, verbose=2).fit(X_train, y_train)"
      ],
      "execution_count": null,
      "outputs": []
    },
    {
      "cell_type": "code",
      "metadata": {
        "id": "J38bDk__ccRh"
      },
      "source": [
        "xgb_cv_model.best_params_"
      ],
      "execution_count": null,
      "outputs": []
    },
    {
      "cell_type": "code",
      "metadata": {
        "id": "1DhmG7OOcrp9"
      },
      "source": [
        "#use best parameters to boost performance\r\n",
        "xgb_tuned = XGBClassifier(n_estimators= 100, subsample=0.6, max_depth=30, learning_rate=0.01, n_jobs=-1, verbose=True).fit(X_train,y_train)"
      ],
      "execution_count": null,
      "outputs": []
    },
    {
      "cell_type": "code",
      "metadata": {
        "id": "Nw-4CGvKXkRI"
      },
      "source": [
        "y_pred = xgb_tuned.predict_proba(X_test)\n",
        "\n",
        "#measuring the error\n",
        "log_loss(y_test, y_pred)\n",
        "print(log_loss(y_test, y_pred))"
      ],
      "execution_count": null,
      "outputs": []
    }
  ]
}